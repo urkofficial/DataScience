{
 "cells": [
  {
   "cell_type": "code",
   "execution_count": 3,
   "id": "87f07790-d6af-4091-9d0a-6d40cec38c83",
   "metadata": {},
   "outputs": [
    {
     "name": "stdin",
     "output_type": "stream",
     "text": [
      "Enter the path to the Excel file:  numbers.xlsx\n",
      "Enter the column name for which you want to calculate statistics:  data\n"
     ]
    },
    {
     "name": "stdout",
     "output_type": "stream",
     "text": [
      "\n",
      "Choose the statistic to calculate:\n",
      "1. Median\n",
      "2. Mode\n",
      "3. Mean\n",
      "4. Variance\n",
      "5. Standard Deviation\n"
     ]
    },
    {
     "name": "stdin",
     "output_type": "stream",
     "text": [
      "Enter the number of your choice:  5\n"
     ]
    },
    {
     "name": "stdout",
     "output_type": "stream",
     "text": [
      "The standard deviation of column 'data' is: 9.543831030765459\n"
     ]
    }
   ],
   "source": [
    "import pandas as pd\n",
    "import math\n",
    "from collections import Counter\n",
    "\n",
    "def calc_median(values):\n",
    "    values.sort()\n",
    "    n = len(values)\n",
    "    if n == 0:\n",
    "        return None\n",
    "    elif n % 2 == 1:\n",
    "        return values[n // 2]\n",
    "    else:\n",
    "        return (values[n // 2 - 1] + values[n // 2]) / 2\n",
    "\n",
    "def calc_mode(values):\n",
    "    if not values:\n",
    "        return None\n",
    "    counts = Counter(values)\n",
    "    max_count = max(counts.values())\n",
    "    modes = [key for key, count in counts.items() if count == max_count]\n",
    "    return modes if len(modes) < len(counts) else \"no unique mode\"\n",
    "\n",
    "def calc_mean(values):\n",
    "    if not values:\n",
    "        return None\n",
    "    return sum(values) / len(values)\n",
    "\n",
    "def calc_variance(values):\n",
    "    if not values:\n",
    "        return None\n",
    "    mean = calc_mean(values)\n",
    "    squared_diffs = [(x - mean) ** 2 for x in values]\n",
    "    return sum(squared_diffs) / len(values)\n",
    "\n",
    "def calc_sd(values):\n",
    "    variance = calc_variance(values)\n",
    "    return math.sqrt(variance) if variance is not None else None\n",
    "\n",
    "def main():\n",
    "    file_path = input(\"Enter the path to the Excel file: \")\n",
    "    column_name = input(\"Enter the column name for which you want to calculate statistics: \")\n",
    "\n",
    "    try:\n",
    "        df = pd.read_excel(file_path)\n",
    "        \n",
    "        if column_name not in df.columns:\n",
    "            raise ValueError(f\"Column '{column_name}' does not exist in the Excel file.\")\n",
    "\n",
    "        values = df[column_name].dropna().tolist()\n",
    "\n",
    "        print(\"\\nChoose the statistic to calculate:\")\n",
    "        print(\"1. Median\")\n",
    "        print(\"2. Mode\")\n",
    "        print(\"3. Mean\")\n",
    "        print(\"4. Variance\")\n",
    "        print(\"5. Standard Deviation\")\n",
    "        choice = input(\"Enter the number of your choice: \")\n",
    "\n",
    "        if choice == '1':\n",
    "            median_value = calc_median(values)\n",
    "            print(f\"The median of column '{column_name}' is: {median_value}\")\n",
    "        elif choice == '2':\n",
    "            mode_value = calc_mode(values)\n",
    "            print(f\"The mode of column '{column_name}' is: {mode_value}\")\n",
    "        elif choice == '3':\n",
    "            mean_value = calc_mean(values)\n",
    "            print(f\"The mean of column '{column_name}' is: {mean_value}\")\n",
    "        elif choice == '4':\n",
    "            variance_value = calc_variance(values)\n",
    "            print(f\"The variance of column '{column_name}' is: {variance_value}\")\n",
    "        elif choice == '5':\n",
    "            sd_value = calc_sd(values)\n",
    "            print(f\"The standard deviation of column '{column_name}' is: {sd_value}\")\n",
    "        else:\n",
    "            print(\"Invalid choice.\")\n",
    "\n",
    "    except Exception as e:\n",
    "        print(f\"An error occurred: {e}\")\n",
    "\n",
    "if __name__ == \"__main__\":\n",
    "    main()\n"
   ]
  },
  {
   "cell_type": "code",
   "execution_count": null,
   "id": "2a0661d2-6d69-4837-a716-af4ea8c94080",
   "metadata": {},
   "outputs": [],
   "source": []
  }
 ],
 "metadata": {
  "kernelspec": {
   "display_name": "Python 3 (ipykernel)",
   "language": "python",
   "name": "python3"
  },
  "language_info": {
   "codemirror_mode": {
    "name": "ipython",
    "version": 3
   },
   "file_extension": ".py",
   "mimetype": "text/x-python",
   "name": "python",
   "nbconvert_exporter": "python",
   "pygments_lexer": "ipython3",
   "version": "3.12.4"
  }
 },
 "nbformat": 4,
 "nbformat_minor": 5
}
